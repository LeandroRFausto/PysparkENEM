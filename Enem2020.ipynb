{
 "cells": [
  {
   "cell_type": "markdown",
   "id": "78466abb-19ea-4d0f-928b-4cbfff096986",
   "metadata": {},
   "source": [
    "# Enem 2020"
   ]
  },
  {
   "cell_type": "code",
   "execution_count": null,
   "id": "9018b0ae-0202-4c6d-9d63-8ae356282edc",
   "metadata": {},
   "outputs": [],
   "source": [
    "# importa as bibliotecas\n",
    "import zipfile \n",
    "import requests\n",
    "from io import BytesIO\n",
    "import os\n",
    "import pyspark\n",
    "from pyspark.sql import SparkSession\n",
    "from pyspark.sql import Row\n",
    "from pyspark.sql.functions import count, col, lit, mean\n",
    "import mysql.connector as msql\n",
    "from mysql.connector import Error"
   ]
  },
  {
   "cell_type": "code",
   "execution_count": null,
   "id": "5d98acea-f152-40b6-b4a8-6deafff3ba4a",
   "metadata": {},
   "outputs": [],
   "source": [
    "# cria um diretório para armazenamento dos dados do ENEM\n",
    "base_path = \"./enem2020\"\n",
    "os.makedirs(base_path, exist_ok=True)\n",
    "\n",
    "# define a url e faz o download dos dados\n",
    "url = \"https://download.inep.gov.br/microdados/microdados_enem_2020.zip\"\n",
    "filebytes = BytesIO(\n",
    "    requests.get(url, stream=True, timeout=3, verify=False).content\n",
    ")\n"
   ]
  },
  {
   "cell_type": "code",
   "execution_count": null,
   "id": "f5f4ae8c-3b4e-45df-90f2-c265f25bd80e",
   "metadata": {},
   "outputs": [],
   "source": [
    "# Extrai o conteúdo do zipfile\n",
    "myzip = zipfile.ZipFile(filebytes)\n",
    "myzip.extractall(base_path)"
   ]
  },
  {
   "cell_type": "markdown",
   "id": "af7840fd-e11b-4100-a928-73cb35c1ae2f",
   "metadata": {},
   "source": [
    "# Leitura e processamento com Pyspark"
   ]
  },
  {
   "cell_type": "code",
   "execution_count": null,
   "id": "d7d5c722-e655-48dd-9103-b2ce5a65ae7c",
   "metadata": {},
   "outputs": [],
   "source": [
    "# Define o caminho do arquivo\n",
    "file_path = os.path.join(\"enem2020\", \"DADOS\", \"MICRODADOS_ENEM_2020.csv\")\n",
    "file_path"
   ]
  },
  {
   "cell_type": "code",
   "execution_count": null,
   "id": "03e8d27a-7b40-4e07-96d5-0e6e31d4e1f5",
   "metadata": {},
   "outputs": [],
   "source": [
    "# Cria a sessão\n",
    "spark = SparkSession.builder.appName(\"ENEM\").getOrCreate()"
   ]
  },
  {
   "cell_type": "code",
   "execution_count": null,
   "id": "81ab0a01-e0d4-4242-81b7-2c2fda4504e5",
   "metadata": {},
   "outputs": [],
   "source": [
    "# Leitura dos dados com Spark\n",
    "enem = (\n",
    "    spark\n",
    "    .read\n",
    "    .format(\"csv\")\n",
    "    .options(header=True, delimiter=\";\", encoding=\"latin1\", inferSchema=True)\n",
    "    .load(file_path)\n",
    ")"
   ]
  },
  {
   "cell_type": "code",
   "execution_count": null,
   "id": "a0bd2206-c801-42fb-9cc7-9fcb86d60603",
   "metadata": {},
   "outputs": [],
   "source": [
    "# Cria uma view da tabela\n",
    "enem.createOrReplaceTempView(\"enem\")"
   ]
  },
  {
   "cell_type": "markdown",
   "id": "80d1612e-c097-4978-9459-c547ae3f53fe",
   "metadata": {},
   "source": [
    "# Indicadores"
   ]
  },
  {
   "cell_type": "markdown",
   "id": "26885d77-8a9c-4f2e-bf89-6c2c76c6e2ed",
   "metadata": {},
   "source": [
    "### Qual a escola com a maior média de notas?"
   ]
  },
  {
   "cell_type": "code",
   "execution_count": null,
   "id": "a537157d",
   "metadata": {},
   "outputs": [],
   "source": [
    "\"\"\"\n",
    "Não foi possível identificar\n",
    "\"\"\""
   ]
  },
  {
   "cell_type": "markdown",
   "id": "5edbe603-db1b-46c7-8948-9f0717b1be85",
   "metadata": {},
   "source": [
    "### Qual o aluno com a maior média de notas e o valor dessa média?"
   ]
  },
  {
   "cell_type": "code",
   "execution_count": null,
   "id": "d5c1d657-e3c5-47ba-9eff-a828205b4a22",
   "metadata": {},
   "outputs": [],
   "source": [
    "questao2 = spark.sql(\"\"\"\n",
    "    SELECT NU_INSCRICAO as inscricao, \n",
    "           (NU_NOTA_CN \n",
    "            + NU_NOTA_CH \n",
    "            + NU_NOTA_LC \n",
    "            + NU_NOTA_MT \n",
    "            + NU_NOTA_COMP1 \n",
    "            + NU_NOTA_COMP2 \n",
    "            + NU_NOTA_COMP3 \n",
    "            + NU_NOTA_COMP4 \n",
    "            + NU_NOTA_COMP5 \n",
    "            + NU_NOTA_REDACAO)/10\n",
    "    media_notas\n",
    "    FROM enem\n",
    "    ORDER BY 2 DESC\n",
    "    LIMIT 1\n",
    "  \n",
    "\"\"\")"
   ]
  },
  {
   "cell_type": "code",
   "execution_count": null,
   "id": "735b2405-0bfe-49e0-a5ea-d9128d2dff54",
   "metadata": {},
   "outputs": [],
   "source": [
    "\"\"\"\n",
    "       +------------+-----------+\n",
    "       |   inscricao|media_notas|\n",
    "       +------------+-----------+\n",
    "       |200005996961|     527.29|\n",
    "       +------------+-----------+\n",
    "\"\"\"\n",
    "questao2.show()"
   ]
  },
  {
   "cell_type": "markdown",
   "id": "fd0940c3-ec57-48fe-a569-ea643c9d21af",
   "metadata": {},
   "source": [
    "### Qual a média geral?"
   ]
  },
  {
   "cell_type": "code",
   "execution_count": null,
   "id": "eac1e58b-887a-4522-92d7-3de4b4eed783",
   "metadata": {},
   "outputs": [],
   "source": [
    "questao3 = spark.sql(\"\"\"\n",
    "    SELECT \n",
    "    ROUND((AVG(NU_NOTA_CN)\n",
    "        + AVG(NU_NOTA_CH) \n",
    "        + AVG(NU_NOTA_LC) \n",
    "        + AVG(NU_NOTA_MT) \n",
    "        + AVG(NU_NOTA_COMP1) \n",
    "        + AVG(NU_NOTA_COMP2) \n",
    "        + AVG(NU_NOTA_COMP3)\n",
    "        + AVG(NU_NOTA_COMP4)\n",
    "        + AVG(NU_NOTA_COMP5)\n",
    "        + AVG(NU_NOTA_REDACAO))/10,2)\n",
    "    media_geral\n",
    "    FROM enem\n",
    "    \n",
    "\"\"\")"
   ]
  },
  {
   "cell_type": "code",
   "execution_count": null,
   "id": "dcaabc84-bc46-479e-b5fb-7de1440e634a",
   "metadata": {},
   "outputs": [],
   "source": [
    "\"\"\"\n",
    "      +-----------+\n",
    "      |media_geral|\n",
    "      +-----------+\n",
    "      |     319.28|\n",
    "      +-----------+\n",
    "\"\"\"\n",
    "questao3.show()"
   ]
  },
  {
   "cell_type": "markdown",
   "id": "521d26d0-5084-40f2-867a-c431964960f1",
   "metadata": {},
   "source": [
    "### Qual o % de Ausentes?"
   ]
  },
  {
   "cell_type": "code",
   "execution_count": null,
   "id": "c72b0b45-6362-40c9-9edc-01772a5f3dcc",
   "metadata": {},
   "outputs": [],
   "source": [
    "questao4 = spark.sql(\"\"\"\n",
    "    SELECT ROUND(\n",
    "        SUM(CASE \n",
    "            WHEN TP_PRESENCA_CN = 0 THEN 1\n",
    "            WHEN TP_PRESENCA_CH = 0 THEN 1\n",
    "            WHEN TP_PRESENCA_LC = 0 THEN 1\n",
    "            WHEN TP_PRESENCA_MT = 0 THEN 1\n",
    "            ELSE 0\n",
    "        END)*100/COUNT(NU_INSCRICAO),2) as percentual_ausente\n",
    "    FROM enem \n",
    "\"\"\")"
   ]
  },
  {
   "cell_type": "code",
   "execution_count": null,
   "id": "e0a812f4-a7df-4ab3-ac83-803f85d051c2",
   "metadata": {},
   "outputs": [],
   "source": [
    "\"\"\"\n",
    "      +------------------+\n",
    "      |percentual_ausente|\n",
    "      +------------------+\n",
    "      |             55.21|\n",
    "      +------------------+\n",
    "\"\"\"\n",
    "questao4.show()"
   ]
  },
  {
   "cell_type": "markdown",
   "id": "6f535a4e-abaa-4fee-aefd-fcaf1339b461",
   "metadata": {},
   "source": [
    "### Qual o número total de Inscritos?"
   ]
  },
  {
   "cell_type": "code",
   "execution_count": null,
   "id": "56d0d7f1-6d2f-4e82-8308-531d710be4f9",
   "metadata": {},
   "outputs": [],
   "source": [
    "questao5 = spark.sql(\"\"\"\n",
    "    SELECT COUNT (distinct NU_INSCRICAO) as NUM_inscritos\n",
    "    FROM enem\n",
    "\"\"\")"
   ]
  },
  {
   "cell_type": "code",
   "execution_count": null,
   "id": "7abaa5aa-96c0-44fb-b092-747c673cab06",
   "metadata": {},
   "outputs": [],
   "source": [
    "\"\"\"\n",
    "      +-------------+\n",
    "      |NUM_inscritos|\n",
    "      +-------------+\n",
    "      |      5783109|\n",
    "      +-------------+\n",
    "\"\"\"\n",
    "questao5.show()"
   ]
  },
  {
   "cell_type": "markdown",
   "id": "e36bcbbb-230b-4730-863d-5d913399549e",
   "metadata": {},
   "source": [
    "### Qual a média por disciplina?"
   ]
  },
  {
   "cell_type": "code",
   "execution_count": null,
   "id": "a4d1d526-d6ba-4af5-a2c9-e61c5faf19aa",
   "metadata": {},
   "outputs": [],
   "source": [
    "questao6 = spark.sql(\"\"\"\n",
    "    SELECT ROUND(AVG(NU_NOTA_CN),2) as media_CN,\n",
    "           ROUND(AVG(NU_NOTA_CH),2) as media_CH,\n",
    "           ROUND(AVG(NU_NOTA_LC),2) as media_LC,\n",
    "           ROUND(AVG(NU_NOTA_MT),2) as media_MT\n",
    "    FROM enem\n",
    "\"\"\")"
   ]
  },
  {
   "cell_type": "code",
   "execution_count": null,
   "id": "39ed1d80-89a3-465d-afa7-db26ba37e8e2",
   "metadata": {},
   "outputs": [],
   "source": [
    "\"\"\"\n",
    "      +--------+--------+--------+--------+\n",
    "      |media_CN|media_CH|media_LC|media_MT|\n",
    "      +--------+--------+--------+--------+\n",
    "      |  490.41|  511.15|   523.8|  520.58|\n",
    "      +--------+--------+--------+--------+\n",
    "\"\"\"\n",
    "questao6.show()"
   ]
  },
  {
   "cell_type": "markdown",
   "id": "2c7f42fe-32e3-46ca-9ac9-2318044c653a",
   "metadata": {},
   "source": [
    "### Qual a média por Sexo?"
   ]
  },
  {
   "cell_type": "code",
   "execution_count": null,
   "id": "9cd4cea0-57fb-418e-af33-155042442ffb",
   "metadata": {},
   "outputs": [],
   "source": [
    "questao7 = spark.sql(\"\"\"\n",
    "    SELECT TP_SEXO as sexo,\n",
    "    ROUND((AVG(NU_NOTA_CN)\n",
    "        + AVG(NU_NOTA_CH) \n",
    "        + AVG(NU_NOTA_LC) \n",
    "        + AVG(NU_NOTA_MT) \n",
    "        + AVG(NU_NOTA_COMP1) \n",
    "        + AVG(NU_NOTA_COMP2) \n",
    "        + AVG(NU_NOTA_COMP3)\n",
    "        + AVG(NU_NOTA_COMP4)\n",
    "        + AVG(NU_NOTA_COMP5)\n",
    "        + AVG(NU_NOTA_REDACAO))/10,2)\n",
    "    media_geral\n",
    "    FROM enem\n",
    "    WHERE TP_SEXO IN ('M', 'F')\n",
    "    GROUP BY TP_SEXO\n",
    "\"\"\")"
   ]
  },
  {
   "cell_type": "code",
   "execution_count": null,
   "id": "63a06d87-f3ff-4270-9ca6-86914d0d0d7e",
   "metadata": {},
   "outputs": [],
   "source": [
    "\"\"\"\n",
    "      +----+-----------+\n",
    "      |sexo|media_geral|\n",
    "      +----+-----------+\n",
    "      |   F|      318.2|\n",
    "      |   M|     320.92|\n",
    "      +----+-----------+\n",
    "\"\"\"\n",
    "questao7.show()"
   ]
  },
  {
   "cell_type": "markdown",
   "id": "5c65cc7c-e017-44b8-a0f4-4aeddadf9118",
   "metadata": {},
   "source": [
    "### Qual a média por Etnia?"
   ]
  },
  {
   "cell_type": "code",
   "execution_count": null,
   "id": "6a45a202-6326-48e2-86f0-b5809eb1e883",
   "metadata": {},
   "outputs": [],
   "source": [
    "questao8 = spark.sql(\"\"\"\n",
    "     SELECT TP_COR_RACA as Etnia,\n",
    "    ROUND((AVG(NU_NOTA_CN)\n",
    "        + AVG(NU_NOTA_CH) \n",
    "        + AVG(NU_NOTA_LC) \n",
    "        + AVG(NU_NOTA_MT) \n",
    "        + AVG(NU_NOTA_COMP1) \n",
    "        + AVG(NU_NOTA_COMP2) \n",
    "        + AVG(NU_NOTA_COMP3)\n",
    "        + AVG(NU_NOTA_COMP4)\n",
    "        + AVG(NU_NOTA_COMP5)\n",
    "        + AVG(NU_NOTA_REDACAO))/10,2)\n",
    "    media_geral\n",
    "    FROM enem\n",
    "    WHERE TP_COR_RACA IN ('0', '1', '2', '3', '4', '5')\n",
    "    GROUP BY TP_COR_RACA\n",
    "    ORDER BY media_geral DESC\n",
    "\"\"\") "
   ]
  },
  {
   "cell_type": "code",
   "execution_count": null,
   "id": "bdd36bd1-4845-4f2c-9a2e-9d773b1f4d3a",
   "metadata": {},
   "outputs": [],
   "source": [
    "\"\"\"\n",
    "      +-----+-----------+\n",
    "      |Etnia|media_geral|\n",
    "      +-----+-----------+\n",
    "      |    1|     338.45|\n",
    "      |    0|     322.48|\n",
    "      |    4|      318.2|\n",
    "      |    3|     308.04|\n",
    "      |    2|     302.64|\n",
    "      |    5|     284.18|\n",
    "      +-----+-----------+\n",
    "\"\"\"\n",
    "questao8.show()"
   ]
  },
  {
   "cell_type": "markdown",
   "id": "03967bd8-b500-46a8-8ec5-aa8b8f7dbca4",
   "metadata": {},
   "source": [
    "# Exportação para o MySQL"
   ]
  },
  {
   "cell_type": "code",
   "execution_count": null,
   "id": "a8beb803-cf58-458d-837a-d103cb253948",
   "metadata": {},
   "outputs": [],
   "source": [
    "# Conecta ao MySql e cria a database mesha_db\n",
    "try:\n",
    "    conn = msql.connect(host='localhost', user='root',  \n",
    "                        password='password')\n",
    "    if conn.is_connected():\n",
    "        cursor = conn.cursor()\n",
    "        cursor.execute(\"CREATE DATABASE mesha_db\")\n",
    "        print(\"Database is created\")\n",
    "except Error as e:\n",
    "    print(\"Error while connecting to MySQL\", e)"
   ]
  },
  {
   "cell_type": "code",
   "execution_count": null,
   "id": "fa45b221-e18b-4a5f-8ddb-0b6197135eaa",
   "metadata": {},
   "outputs": [],
   "source": [
    "# Importa os módulos\n",
    "spark = SparkSession.builder.config(\"spark.jars.packages\",\"mysql:mysql-connector-java:5.1.47\") \\\n",
    "    .master(\"local\").appName(\"PySpark_MySQL_test2\").getOrCreate()"
   ]
  },
  {
   "cell_type": "code",
   "execution_count": null,
   "id": "fd56572e",
   "metadata": {},
   "outputs": [],
   "source": [
    "# Cria a tabela local_aplicacao_d e salva o dataframe nela\n",
    "enem.select(\"NU_INSCRICAO\",\"CO_MUNICIPIO_PROVA\",\"NO_MUNICIPIO_PROVA\",\"SG_UF_PROVA\").write.format(\"jdbc\").option(\"url\", \"jdbc:mysql://127.0.0.1:3306/mesha_db\") \\\n",
    "\t.option(\"driver\", \"com.mysql.jdbc.Driver\").option(\"dbtable\", \"local_aplicacao_d\") \\\n",
    "\t.option(\"user\", \"root\").option(\"password\", \"password\").save()"
   ]
  },
  {
   "cell_type": "code",
   "execution_count": null,
   "id": "34c950c0",
   "metadata": {},
   "outputs": [],
   "source": [
    "# Cria a tabela participante_d e salva o dataframe nela\n",
    "enem.select(\"NU_INSCRICAO\",\"NU_ANO\",\"TP_FAIXA_ETARIA\",\"TP_SEXO\",\"TP_ESTADO_CIVIL\",\"TP_COR_RACA\",\"TP_NACIONALIDADE\",\"TP_ST_CONCLUSAO\",\"TP_ANO_CONCLUIU\",\"TP_ESCOLA\",\"TP_ENSINO\",\"IN_TREINEIRO\").write.format(\"jdbc\").option(\"url\", \"jdbc:mysql://127.0.0.1:3306/mesha_db\") \\\n",
    "\t.option(\"driver\", \"com.mysql.jdbc.Driver\").option(\"dbtable\", \"participante_d\") \\\n",
    "\t.option(\"user\", \"root\").option(\"password\", \"password\").save()"
   ]
  },
  {
   "cell_type": "code",
   "execution_count": null,
   "id": "5f14ac86",
   "metadata": {},
   "outputs": [],
   "source": [
    "# Cria a tabela questionario_d e salva o dataframe nela\n",
    "enem.select(\"NU_INSCRICAO\",\"Q001\",\"Q002\",\"Q003\",\"Q004\",\"Q005\",\"Q006\",\"Q007\",\"Q008\",\"Q009\",\"Q010\",\"Q011\",\"Q012\",\"Q013\",\"Q014\",\"Q015\",\"Q016\",\"Q017\",\"Q018\",\"Q019\",\"Q020\",\"Q021\",\"Q022\",\"Q023\",\"Q024\",\"Q025\").write.format(\"jdbc\").option(\"url\", \"jdbc:mysql://127.0.0.1:3306/mesha_db\") \\\n",
    "\t.option(\"driver\", \"com.mysql.jdbc.Driver\").option(\"dbtable\", \"questionario_d\") \\\n",
    "\t.option(\"user\", \"root\").option(\"password\", \"password\").save()"
   ]
  },
  {
   "cell_type": "code",
   "execution_count": null,
   "id": "f58e05ee",
   "metadata": {},
   "outputs": [],
   "source": [
    "# Cria a tabela escola_d e salva o dataframe nela\n",
    "enem.select(\"NU_INSCRICAO\",\"CO_MUNICIPIO_ESC\",\"NO_MUNICIPIO_ESC\",\"CO_UF_ESC\",\"SG_UF_ESC\",\"TP_DEPENDENCIA_ADM_ESC\",\"TP_LOCALIZACAO_ESC\",\"TP_SIT_FUNC_ESC\").write.format(\"jdbc\").option(\"url\", \"jdbc:mysql://127.0.0.1:3306/mesha_db\") \\\n",
    "\t.option(\"driver\", \"com.mysql.jdbc.Driver\").option(\"dbtable\", \"escola_d\") \\\n",
    "\t.option(\"user\", \"root\").option(\"password\", \"password\").save()"
   ]
  },
  {
   "cell_type": "code",
   "execution_count": null,
   "id": "43551581",
   "metadata": {},
   "outputs": [],
   "source": [
    "# Cria a tabela prova_objetiva_F e salva o dataframe nela\n",
    "enem.select(\"NU_INSCRICAO\",\"TP_PRESENCA_CN\",\"TP_PRESENCA_CH\",\"TP_PRESENCA_LC\",\"TP_PRESENCA_MT\",\"CO_PROVA_CN\",\"CO_PROVA_CH\",\"CO_PROVA_LC\",\"CO_PROVA_MT\",\"NU_NOTA_CN\",\"NU_NOTA_CH\",\"NU_NOTA_LC\",\"NU_NOTA_MT\",\"TP_LINGUA\",\"TP_STATUS_REDACAO\",\"NU_NOTA_COMP1\",\"NU_NOTA_COMP2\",\"NU_NOTA_COMP3\",\"NU_NOTA_COMP4\",\"NU_NOTA_COMP5\",\"NU_NOTA_REDACAO\").write.format(\"jdbc\").option(\"url\", \"jdbc:mysql://127.0.0.1:3306/mesha_db\") \\\n",
    "\t.option(\"driver\", \"com.mysql.jdbc.Driver\").option(\"dbtable\", \"prova_objetiva_f\") \\\n",
    "\t.option(\"user\", \"root\").option(\"password\", \"password\").save()"
   ]
  }
 ],
 "metadata": {
  "kernelspec": {
   "display_name": "Python 3.10.6 64-bit",
   "language": "python",
   "name": "python3"
  },
  "language_info": {
   "codemirror_mode": {
    "name": "ipython",
    "version": 3
   },
   "file_extension": ".py",
   "mimetype": "text/x-python",
   "name": "python",
   "nbconvert_exporter": "python",
   "pygments_lexer": "ipython3",
   "version": "3.10.6"
  },
  "vscode": {
   "interpreter": {
    "hash": "916dbcbb3f70747c44a77c7bcd40155683ae19c65e1c03b4aa3499c5328201f1"
   }
  }
 },
 "nbformat": 4,
 "nbformat_minor": 5
}
